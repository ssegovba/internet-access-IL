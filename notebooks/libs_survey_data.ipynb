{
 "cells": [
  {
   "cell_type": "markdown",
   "metadata": {},
   "source": [
    "# Survey Data on Broadband Access for Public Libraries"
   ]
  },
  {
   "cell_type": "markdown",
   "metadata": {},
   "source": [
    "This notebook explores and cleans the data from the survey on broadband access for public libraries. The survey data is used along with the geocoded data from the libraries (`geolib_df`) obtained from `utils/geocoding_libs.py`. The resulting dataset from this process is a library dataset that contains the name, address and geolocation of the libraries, as well as data on broadband access (`data/lib_data_plot.csv`).\n",
    "\n",
    "There survey has several questions, but we'll focus in the ones that ask about broadband access and upload/download speeds. After cleaning the data, we'll merge both datasets keeping the `geolib_df` as a reference, as it has the universe of libraries in Illinois and the survey is a subset of those."
   ]
  },
  {
   "cell_type": "markdown",
   "metadata": {},
   "source": [
    "## I. Loading Libraries and Data"
   ]
  },
  {
   "cell_type": "code",
   "execution_count": 2,
   "metadata": {},
   "outputs": [],
   "source": [
    "import sys\n",
    "sys.path.append('../')\n",
    "import pandas as pd\n",
    "\n",
    "from utils.geocoding_libs import geocode_lib"
   ]
  },
  {
   "cell_type": "code",
   "execution_count": 3,
   "metadata": {},
   "outputs": [],
   "source": [
    "survey_df = pd.read_excel(\"../data/public_library_survey.xlsx\",\n",
    "                          usecols=[8,10,17,18,21,22,23,24,25,26],\n",
    "                          engine=\"openpyxl\", skiprows=[1,2])\n",
    "\n",
    "survey_df.rename(columns={8: \"lib_name\", 10: \"lib_address\", 17: \"broadband\",\n",
    "                  18: \"wifi\", 21: \"down_open\", 22: \"upload_open\",\n",
    "                  23: \"down_midday\", 24: \"upload_midday\",\n",
    "                  25: \"down_close\", 26: \"upload_close\"}, inplace=True)\n",
    "\n",
    "geolib_df = pd.read_csv(\"../data/geocoded_lib_data_public.csv\")"
   ]
  },
  {
   "cell_type": "markdown",
   "metadata": {},
   "source": [
    "## II. Cleaning Survey Data"
   ]
  },
  {
   "cell_type": "markdown",
   "metadata": {},
   "source": [
    "We make sure that we only keep information that has data for all rows, so we begin by removing `NAs`. This gives us a list of the 592 libraries that at least started the survey:"
   ]
  },
  {
   "cell_type": "code",
   "execution_count": 4,
   "metadata": {},
   "outputs": [
    {
     "data": {
      "text/plain": [
       "(592, 10)"
      ]
     },
     "execution_count": 4,
     "metadata": {},
     "output_type": "execute_result"
    }
   ],
   "source": [
    "survey_df.dropna(how=\"all\", inplace=True)\n",
    "survey_df.shape"
   ]
  },
  {
   "cell_type": "markdown",
   "metadata": {},
   "source": [
    "In some cases, the survey is filled by more than one employee in the same library, so we remove those duplicates as we only want to keep one register per library:"
   ]
  },
  {
   "cell_type": "code",
   "execution_count": 5,
   "metadata": {},
   "outputs": [
    {
     "data": {
      "text/html": [
       "<div>\n",
       "<style scoped>\n",
       "    .dataframe tbody tr th:only-of-type {\n",
       "        vertical-align: middle;\n",
       "    }\n",
       "\n",
       "    .dataframe tbody tr th {\n",
       "        vertical-align: top;\n",
       "    }\n",
       "\n",
       "    .dataframe thead th {\n",
       "        text-align: right;\n",
       "    }\n",
       "</style>\n",
       "<table border=\"1\" class=\"dataframe\">\n",
       "  <thead>\n",
       "    <tr style=\"text-align: right;\">\n",
       "      <th></th>\n",
       "      <th>lib_name</th>\n",
       "      <th>lib_address</th>\n",
       "      <th>broadband</th>\n",
       "      <th>wifi</th>\n",
       "      <th>down_open</th>\n",
       "      <th>upload_open</th>\n",
       "      <th>down_midday</th>\n",
       "      <th>upload_midday</th>\n",
       "      <th>down_close</th>\n",
       "      <th>upload_close</th>\n",
       "    </tr>\n",
       "  </thead>\n",
       "  <tbody>\n",
       "    <tr>\n",
       "      <th>98</th>\n",
       "      <td>Belleville Public Library</td>\n",
       "      <td>121 E. Washington St.</td>\n",
       "      <td>Yes</td>\n",
       "      <td>Yes</td>\n",
       "      <td>86.0</td>\n",
       "      <td>85.0</td>\n",
       "      <td>85.0</td>\n",
       "      <td>84.0</td>\n",
       "      <td>88.0</td>\n",
       "      <td>86.0</td>\n",
       "    </tr>\n",
       "    <tr>\n",
       "      <th>118</th>\n",
       "      <td>Cicero Public Library</td>\n",
       "      <td>5225 W. Cermak Rd., Cicero, IL, 60804</td>\n",
       "      <td>NaN</td>\n",
       "      <td>NaN</td>\n",
       "      <td>NaN</td>\n",
       "      <td>NaN</td>\n",
       "      <td>NaN</td>\n",
       "      <td>NaN</td>\n",
       "      <td>NaN</td>\n",
       "      <td>NaN</td>\n",
       "    </tr>\n",
       "    <tr>\n",
       "      <th>181</th>\n",
       "      <td>Harvey Public Library District</td>\n",
       "      <td>15441 Turlington Ave</td>\n",
       "      <td>Yes</td>\n",
       "      <td>Yes</td>\n",
       "      <td>320.0</td>\n",
       "      <td>320.0</td>\n",
       "      <td>320.0</td>\n",
       "      <td>320.0</td>\n",
       "      <td>320.0</td>\n",
       "      <td>320.0</td>\n",
       "    </tr>\n",
       "    <tr>\n",
       "      <th>203</th>\n",
       "      <td>Oak Park Public Library</td>\n",
       "      <td>834 Lake St</td>\n",
       "      <td>Yes</td>\n",
       "      <td>Yes</td>\n",
       "      <td>236.0</td>\n",
       "      <td>241.0</td>\n",
       "      <td>169.0</td>\n",
       "      <td>109.0</td>\n",
       "      <td>243.0</td>\n",
       "      <td>236.0</td>\n",
       "    </tr>\n",
       "    <tr>\n",
       "      <th>216</th>\n",
       "      <td>Alpha Park Public Library District</td>\n",
       "      <td>3527 S Airport Rd. Bartonville, IL 616107</td>\n",
       "      <td>Yes</td>\n",
       "      <td>Yes</td>\n",
       "      <td>100.0</td>\n",
       "      <td>100.0</td>\n",
       "      <td>100.0</td>\n",
       "      <td>100.0</td>\n",
       "      <td>100.0</td>\n",
       "      <td>100.0</td>\n",
       "    </tr>\n",
       "  </tbody>\n",
       "</table>\n",
       "</div>"
      ],
      "text/plain": [
       "                               lib_name  \\\n",
       "98            Belleville Public Library   \n",
       "118               Cicero Public Library   \n",
       "181      Harvey Public Library District   \n",
       "203             Oak Park Public Library   \n",
       "216  Alpha Park Public Library District   \n",
       "\n",
       "                                   lib_address broadband wifi  down_open  \\\n",
       "98                       121 E. Washington St.       Yes  Yes       86.0   \n",
       "118      5225 W. Cermak Rd., Cicero, IL, 60804       NaN  NaN        NaN   \n",
       "181                       15441 Turlington Ave       Yes  Yes      320.0   \n",
       "203                                834 Lake St       Yes  Yes      236.0   \n",
       "216  3527 S Airport Rd. Bartonville, IL 616107       Yes  Yes      100.0   \n",
       "\n",
       "     upload_open  down_midday  upload_midday  down_close  upload_close  \n",
       "98          85.0         85.0           84.0        88.0          86.0  \n",
       "118          NaN          NaN            NaN         NaN           NaN  \n",
       "181        320.0        320.0          320.0       320.0         320.0  \n",
       "203        241.0        169.0          109.0       243.0         236.0  \n",
       "216        100.0        100.0          100.0       100.0         100.0  "
      ]
     },
     "execution_count": 5,
     "metadata": {},
     "output_type": "execute_result"
    }
   ],
   "source": [
    "# Duplicates\n",
    "survey_df[survey_df.duplicated()].head()"
   ]
  },
  {
   "cell_type": "code",
   "execution_count": 6,
   "metadata": {},
   "outputs": [
    {
     "data": {
      "text/plain": [
       "(577, 10)"
      ]
     },
     "execution_count": 6,
     "metadata": {},
     "output_type": "execute_result"
    }
   ],
   "source": [
    "# Drop all-row duplicates\n",
    "survey_df.drop_duplicates(inplace=True)\n",
    "survey_df.shape"
   ]
  },
  {
   "cell_type": "markdown",
   "metadata": {},
   "source": [
    "There is also more than one entry per library with different values in some columns like address (*e.g.*, Rockford Public Library) or in data columns (*e.g.,* Oak Park Public Library - 834 Lake St):"
   ]
  },
  {
   "cell_type": "code",
   "execution_count": 7,
   "metadata": {},
   "outputs": [
    {
     "data": {
      "text/html": [
       "<div>\n",
       "<style scoped>\n",
       "    .dataframe tbody tr th:only-of-type {\n",
       "        vertical-align: middle;\n",
       "    }\n",
       "\n",
       "    .dataframe tbody tr th {\n",
       "        vertical-align: top;\n",
       "    }\n",
       "\n",
       "    .dataframe thead th {\n",
       "        text-align: right;\n",
       "    }\n",
       "</style>\n",
       "<table border=\"1\" class=\"dataframe\">\n",
       "  <thead>\n",
       "    <tr style=\"text-align: right;\">\n",
       "      <th></th>\n",
       "      <th>lib_name</th>\n",
       "      <th>lib_address</th>\n",
       "      <th>broadband</th>\n",
       "      <th>wifi</th>\n",
       "      <th>down_open</th>\n",
       "      <th>upload_open</th>\n",
       "      <th>down_midday</th>\n",
       "      <th>upload_midday</th>\n",
       "      <th>down_close</th>\n",
       "      <th>upload_close</th>\n",
       "    </tr>\n",
       "  </thead>\n",
       "  <tbody>\n",
       "    <tr>\n",
       "      <th>509</th>\n",
       "      <td>Rockford Public Library</td>\n",
       "      <td>6685 East State Street</td>\n",
       "      <td>Yes</td>\n",
       "      <td>Yes</td>\n",
       "      <td>320.0</td>\n",
       "      <td>320.0</td>\n",
       "      <td>320.0</td>\n",
       "      <td>320.0</td>\n",
       "      <td>320.0</td>\n",
       "      <td>320.0</td>\n",
       "    </tr>\n",
       "    <tr>\n",
       "      <th>510</th>\n",
       "      <td>Rockford Public Library</td>\n",
       "      <td>1238 S. Winnebago Street</td>\n",
       "      <td>Yes</td>\n",
       "      <td>Yes</td>\n",
       "      <td>320.0</td>\n",
       "      <td>320.0</td>\n",
       "      <td>320.0</td>\n",
       "      <td>320.0</td>\n",
       "      <td>320.0</td>\n",
       "      <td>320.0</td>\n",
       "    </tr>\n",
       "    <tr>\n",
       "      <th>512</th>\n",
       "      <td>Rockford Public Library</td>\n",
       "      <td>214 North Church Street</td>\n",
       "      <td>Yes</td>\n",
       "      <td>Yes</td>\n",
       "      <td>320.0</td>\n",
       "      <td>320.0</td>\n",
       "      <td>320.0</td>\n",
       "      <td>320.0</td>\n",
       "      <td>320.0</td>\n",
       "      <td>320.0</td>\n",
       "    </tr>\n",
       "  </tbody>\n",
       "</table>\n",
       "</div>"
      ],
      "text/plain": [
       "                    lib_name               lib_address broadband wifi  \\\n",
       "509  Rockford Public Library    6685 East State Street       Yes  Yes   \n",
       "510  Rockford Public Library  1238 S. Winnebago Street       Yes  Yes   \n",
       "512  Rockford Public Library   214 North Church Street       Yes  Yes   \n",
       "\n",
       "     down_open  upload_open  down_midday  upload_midday  down_close  \\\n",
       "509      320.0        320.0        320.0          320.0       320.0   \n",
       "510      320.0        320.0        320.0          320.0       320.0   \n",
       "512      320.0        320.0        320.0          320.0       320.0   \n",
       "\n",
       "     upload_close  \n",
       "509         320.0  \n",
       "510         320.0  \n",
       "512         320.0  "
      ]
     },
     "execution_count": 7,
     "metadata": {},
     "output_type": "execute_result"
    }
   ],
   "source": [
    "# Same name, different values for address:\n",
    "survey_df[survey_df.loc[:,\"lib_name\"] == \"Rockford Public Library\"]"
   ]
  },
  {
   "cell_type": "code",
   "execution_count": 8,
   "metadata": {},
   "outputs": [
    {
     "data": {
      "text/html": [
       "<div>\n",
       "<style scoped>\n",
       "    .dataframe tbody tr th:only-of-type {\n",
       "        vertical-align: middle;\n",
       "    }\n",
       "\n",
       "    .dataframe tbody tr th {\n",
       "        vertical-align: top;\n",
       "    }\n",
       "\n",
       "    .dataframe thead th {\n",
       "        text-align: right;\n",
       "    }\n",
       "</style>\n",
       "<table border=\"1\" class=\"dataframe\">\n",
       "  <thead>\n",
       "    <tr style=\"text-align: right;\">\n",
       "      <th></th>\n",
       "      <th>lib_name</th>\n",
       "      <th>lib_address</th>\n",
       "      <th>broadband</th>\n",
       "      <th>wifi</th>\n",
       "      <th>down_open</th>\n",
       "      <th>upload_open</th>\n",
       "      <th>down_midday</th>\n",
       "      <th>upload_midday</th>\n",
       "      <th>down_close</th>\n",
       "      <th>upload_close</th>\n",
       "    </tr>\n",
       "  </thead>\n",
       "  <tbody>\n",
       "    <tr>\n",
       "      <th>144</th>\n",
       "      <td>Oak Park Public Library</td>\n",
       "      <td>834 Lake St</td>\n",
       "      <td>Yes</td>\n",
       "      <td>Yes</td>\n",
       "      <td>236.0</td>\n",
       "      <td>241.0</td>\n",
       "      <td>169.0</td>\n",
       "      <td>109.0</td>\n",
       "      <td>243.0</td>\n",
       "      <td>236.0</td>\n",
       "    </tr>\n",
       "    <tr>\n",
       "      <th>479</th>\n",
       "      <td>Oak Park Public Library</td>\n",
       "      <td>834 Lake St</td>\n",
       "      <td>Yes</td>\n",
       "      <td>Yes</td>\n",
       "      <td>245.0</td>\n",
       "      <td>237.0</td>\n",
       "      <td>186.0</td>\n",
       "      <td>183.0</td>\n",
       "      <td>239.0</td>\n",
       "      <td>237.0</td>\n",
       "    </tr>\n",
       "  </tbody>\n",
       "</table>\n",
       "</div>"
      ],
      "text/plain": [
       "                    lib_name  lib_address broadband wifi  down_open  \\\n",
       "144  Oak Park Public Library  834 Lake St       Yes  Yes      236.0   \n",
       "479  Oak Park Public Library  834 Lake St       Yes  Yes      245.0   \n",
       "\n",
       "     upload_open  down_midday  upload_midday  down_close  upload_close  \n",
       "144        241.0        169.0          109.0       243.0         236.0  \n",
       "479        237.0        186.0          183.0       239.0         237.0  "
      ]
     },
     "execution_count": 8,
     "metadata": {},
     "output_type": "execute_result"
    }
   ],
   "source": [
    "# Same name and address, different value for variables:\n",
    "survey_df[survey_df.loc[:,\"lib_address\"] == \"834 Lake St\"]"
   ]
  },
  {
   "cell_type": "markdown",
   "metadata": {},
   "source": [
    "We remove those duplicates by subsetting the pattern to `lib_name`. Before that, we remove trailing whitespaces since library names (`lib_name`) and addresses (`lib_address`) are not homogeneous:"
   ]
  },
  {
   "cell_type": "code",
   "execution_count": 9,
   "metadata": {},
   "outputs": [],
   "source": [
    "survey_df.loc[:,\"lib_name\"] = survey_df.loc[:,\"lib_name\"].astype('str').apply(lambda x: x.strip())\n",
    "survey_df.loc[:,\"lib_address\"] = survey_df.loc[:,\"lib_address\"].astype('str').apply(lambda x: x.strip())"
   ]
  },
  {
   "cell_type": "code",
   "execution_count": 10,
   "metadata": {},
   "outputs": [
    {
     "data": {
      "text/plain": [
       "(450, 10)"
      ]
     },
     "execution_count": 10,
     "metadata": {},
     "output_type": "execute_result"
    }
   ],
   "source": [
    "survey_df.drop_duplicates(subset=\"lib_name\",inplace=True)\n",
    "survey_df.shape"
   ]
  },
  {
   "cell_type": "markdown",
   "metadata": {},
   "source": [
    "And finally, we perfom a `value_counts()` operation over the `lib_address` to check that there are no more duplicates:"
   ]
  },
  {
   "cell_type": "code",
   "execution_count": 11,
   "metadata": {},
   "outputs": [
    {
     "data": {
      "text/html": [
       "<div>\n",
       "<style scoped>\n",
       "    .dataframe tbody tr th:only-of-type {\n",
       "        vertical-align: middle;\n",
       "    }\n",
       "\n",
       "    .dataframe tbody tr th {\n",
       "        vertical-align: top;\n",
       "    }\n",
       "\n",
       "    .dataframe thead th {\n",
       "        text-align: right;\n",
       "    }\n",
       "</style>\n",
       "<table border=\"1\" class=\"dataframe\">\n",
       "  <thead>\n",
       "    <tr style=\"text-align: right;\">\n",
       "      <th></th>\n",
       "      <th>lib_address</th>\n",
       "      <th>count</th>\n",
       "    </tr>\n",
       "  </thead>\n",
       "  <tbody>\n",
       "    <tr>\n",
       "      <th>0</th>\n",
       "      <td>201 W. Adams St., Havana, IL 62644</td>\n",
       "      <td>1</td>\n",
       "    </tr>\n",
       "    <tr>\n",
       "      <th>1</th>\n",
       "      <td>1270 Mulholland Street</td>\n",
       "      <td>1</td>\n",
       "    </tr>\n",
       "    <tr>\n",
       "      <th>2</th>\n",
       "      <td>210 W Green St</td>\n",
       "      <td>1</td>\n",
       "    </tr>\n",
       "    <tr>\n",
       "      <th>3</th>\n",
       "      <td>10 South Batavia Avenue, Batavia IL 60510</td>\n",
       "      <td>1</td>\n",
       "    </tr>\n",
       "    <tr>\n",
       "      <th>4</th>\n",
       "      <td>307 South Madison, Morrison, IL 61270</td>\n",
       "      <td>1</td>\n",
       "    </tr>\n",
       "    <tr>\n",
       "      <th>...</th>\n",
       "      <td>...</td>\n",
       "      <td>...</td>\n",
       "    </tr>\n",
       "    <tr>\n",
       "      <th>445</th>\n",
       "      <td>1501 Ellinwood St, Des Plaines, 60016</td>\n",
       "      <td>1</td>\n",
       "    </tr>\n",
       "    <tr>\n",
       "      <th>446</th>\n",
       "      <td>207 N Walnut</td>\n",
       "      <td>1</td>\n",
       "    </tr>\n",
       "    <tr>\n",
       "      <th>447</th>\n",
       "      <td>600 S. Main St., PO Box 211, Buffalo, IL 62515</td>\n",
       "      <td>1</td>\n",
       "    </tr>\n",
       "    <tr>\n",
       "      <th>448</th>\n",
       "      <td>616 Hiawatha Drive, Carol Stream, 60188</td>\n",
       "      <td>1</td>\n",
       "    </tr>\n",
       "    <tr>\n",
       "      <th>449</th>\n",
       "      <td>1637 N Taft Avenue</td>\n",
       "      <td>1</td>\n",
       "    </tr>\n",
       "  </tbody>\n",
       "</table>\n",
       "<p>450 rows × 2 columns</p>\n",
       "</div>"
      ],
      "text/plain": [
       "                                        lib_address  count\n",
       "0                201 W. Adams St., Havana, IL 62644      1\n",
       "1                            1270 Mulholland Street      1\n",
       "2                                    210 W Green St      1\n",
       "3         10 South Batavia Avenue, Batavia IL 60510      1\n",
       "4             307 South Madison, Morrison, IL 61270      1\n",
       "..                                              ...    ...\n",
       "445           1501 Ellinwood St, Des Plaines, 60016      1\n",
       "446                                    207 N Walnut      1\n",
       "447  600 S. Main St., PO Box 211, Buffalo, IL 62515      1\n",
       "448         616 Hiawatha Drive, Carol Stream, 60188      1\n",
       "449                              1637 N Taft Avenue      1\n",
       "\n",
       "[450 rows x 2 columns]"
      ]
     },
     "execution_count": 11,
     "metadata": {},
     "output_type": "execute_result"
    }
   ],
   "source": [
    "survey_df.loc[:,\"lib_address\"].value_counts().to_frame().reset_index()"
   ]
  },
  {
   "cell_type": "markdown",
   "metadata": {},
   "source": [
    "## III. Geocoding the Survey Data"
   ]
  },
  {
   "cell_type": "markdown",
   "metadata": {},
   "source": [
    "We create a dictionary with `lib_name` and `lib_address` to use the geocoding API:"
   ]
  },
  {
   "cell_type": "code",
   "execution_count": 12,
   "metadata": {},
   "outputs": [
    {
     "data": {
      "text/html": [
       "<div>\n",
       "<style scoped>\n",
       "    .dataframe tbody tr th:only-of-type {\n",
       "        vertical-align: middle;\n",
       "    }\n",
       "\n",
       "    .dataframe tbody tr th {\n",
       "        vertical-align: top;\n",
       "    }\n",
       "\n",
       "    .dataframe thead th {\n",
       "        text-align: right;\n",
       "    }\n",
       "</style>\n",
       "<table border=\"1\" class=\"dataframe\">\n",
       "  <thead>\n",
       "    <tr style=\"text-align: right;\">\n",
       "      <th></th>\n",
       "      <th>lib_name</th>\n",
       "      <th>lib_address</th>\n",
       "      <th>latitude</th>\n",
       "      <th>longitude</th>\n",
       "    </tr>\n",
       "  </thead>\n",
       "  <tbody>\n",
       "    <tr>\n",
       "      <th>0</th>\n",
       "      <td>Havana Public Library District</td>\n",
       "      <td>201 W. Adams St., Havana, IL 62644</td>\n",
       "      <td>40.299153</td>\n",
       "      <td>-90.062597</td>\n",
       "    </tr>\n",
       "    <tr>\n",
       "      <th>1</th>\n",
       "      <td>Riverton Village library</td>\n",
       "      <td>1200 Riverton Road, Riverton, Illionis, 62561</td>\n",
       "      <td>39.859524</td>\n",
       "      <td>-89.531471</td>\n",
       "    </tr>\n",
       "    <tr>\n",
       "      <th>2</th>\n",
       "      <td>Bethalto Public Library District</td>\n",
       "      <td>321 S. Prairie St., Bethalto, IL 62010</td>\n",
       "      <td>38.907462</td>\n",
       "      <td>-90.040347</td>\n",
       "    </tr>\n",
       "  </tbody>\n",
       "</table>\n",
       "</div>"
      ],
      "text/plain": [
       "                           lib_name  \\\n",
       "0    Havana Public Library District   \n",
       "1          Riverton Village library   \n",
       "2  Bethalto Public Library District   \n",
       "\n",
       "                                     lib_address   latitude  longitude  \n",
       "0             201 W. Adams St., Havana, IL 62644  40.299153 -90.062597  \n",
       "1  1200 Riverton Road, Riverton, Illionis, 62561  39.859524 -89.531471  \n",
       "2         321 S. Prairie St., Bethalto, IL 62010  38.907462 -90.040347  "
      ]
     },
     "execution_count": 12,
     "metadata": {},
     "output_type": "execute_result"
    }
   ],
   "source": [
    "# Convert the DataFrame to a dictionary\n",
    "library_dict = survey_df.set_index('lib_name')['lib_address'].to_dict()\n",
    "\n",
    "# Convert each value in the dictionary to a list\n",
    "library_dict = {key: [value] for key, value in library_dict.items()}\n",
    "\n",
    "# Call function to create dataframe with location\n",
    "library_df = geocode_lib(library_dict)\n",
    "library_df.head(3)"
   ]
  },
  {
   "cell_type": "markdown",
   "metadata": {},
   "source": [
    "From the 450 records after initial cleaning, 370 had a valid address to retrieve coordinates:"
   ]
  },
  {
   "cell_type": "code",
   "execution_count": 13,
   "metadata": {},
   "outputs": [
    {
     "data": {
      "text/plain": [
       "(371, 4)"
      ]
     },
     "execution_count": 13,
     "metadata": {},
     "output_type": "execute_result"
    }
   ],
   "source": [
    "library_df.shape"
   ]
  },
  {
   "cell_type": "markdown",
   "metadata": {},
   "source": [
    "## IV. Data Merging "
   ]
  },
  {
   "cell_type": "markdown",
   "metadata": {},
   "source": [
    "We'll merge both the original `geolib_df` and the geocoded survey df using `lib_name` as a key. We'll preserve all the observations from the original dataset since it contains the universe of libraries in Illinois while the survey data is a subset.\n",
    "\n",
    "In order to do this we first need to add the location data to the survey data. This will be represented in a dataset called `geosurvey_df`:"
   ]
  },
  {
   "cell_type": "code",
   "execution_count": 14,
   "metadata": {},
   "outputs": [],
   "source": [
    "# Create new dataframe by merging the survey_df and the geocoded one\n",
    "geosurvey_df = pd.merge(library_df,survey_df, how=\"left\", on=\"lib_name\")\n",
    "geosurvey_df.rename(columns={\"lib_name\": \"lib_name_survey\",\n",
    "                             \"lib_address_x\":\"lib_address_survey\"},\n",
    "                             inplace=True)\n",
    "geosurvey_df.drop(\"lib_address_y\", axis=1, inplace=True)"
   ]
  },
  {
   "cell_type": "code",
   "execution_count": 15,
   "metadata": {},
   "outputs": [
    {
     "data": {
      "text/html": [
       "<div>\n",
       "<style scoped>\n",
       "    .dataframe tbody tr th:only-of-type {\n",
       "        vertical-align: middle;\n",
       "    }\n",
       "\n",
       "    .dataframe tbody tr th {\n",
       "        vertical-align: top;\n",
       "    }\n",
       "\n",
       "    .dataframe thead th {\n",
       "        text-align: right;\n",
       "    }\n",
       "</style>\n",
       "<table border=\"1\" class=\"dataframe\">\n",
       "  <thead>\n",
       "    <tr style=\"text-align: right;\">\n",
       "      <th></th>\n",
       "      <th>lib_name_survey</th>\n",
       "      <th>lib_address_survey</th>\n",
       "      <th>latitude</th>\n",
       "      <th>longitude</th>\n",
       "      <th>broadband</th>\n",
       "      <th>wifi</th>\n",
       "      <th>down_open</th>\n",
       "      <th>upload_open</th>\n",
       "      <th>down_midday</th>\n",
       "      <th>upload_midday</th>\n",
       "      <th>down_close</th>\n",
       "      <th>upload_close</th>\n",
       "    </tr>\n",
       "  </thead>\n",
       "  <tbody>\n",
       "    <tr>\n",
       "      <th>0</th>\n",
       "      <td>Havana Public Library District</td>\n",
       "      <td>201 W. Adams St., Havana, IL 62644</td>\n",
       "      <td>40.299153</td>\n",
       "      <td>-90.062597</td>\n",
       "      <td>Yes</td>\n",
       "      <td>Yes</td>\n",
       "      <td>320.0</td>\n",
       "      <td>198.0</td>\n",
       "      <td>320.0</td>\n",
       "      <td>320.0</td>\n",
       "      <td>320.0</td>\n",
       "      <td>320.0</td>\n",
       "    </tr>\n",
       "    <tr>\n",
       "      <th>1</th>\n",
       "      <td>Riverton Village library</td>\n",
       "      <td>1200 Riverton Road, Riverton, Illionis, 62561</td>\n",
       "      <td>39.859524</td>\n",
       "      <td>-89.531471</td>\n",
       "      <td>Yes</td>\n",
       "      <td>Yes</td>\n",
       "      <td>93.0</td>\n",
       "      <td>94.0</td>\n",
       "      <td>93.0</td>\n",
       "      <td>94.0</td>\n",
       "      <td>94.0</td>\n",
       "      <td>94.0</td>\n",
       "    </tr>\n",
       "    <tr>\n",
       "      <th>2</th>\n",
       "      <td>Bethalto Public Library District</td>\n",
       "      <td>321 S. Prairie St., Bethalto, IL 62010</td>\n",
       "      <td>38.907462</td>\n",
       "      <td>-90.040347</td>\n",
       "      <td>Yes</td>\n",
       "      <td>Yes</td>\n",
       "      <td>203.0</td>\n",
       "      <td>7.0</td>\n",
       "      <td>146.0</td>\n",
       "      <td>3.0</td>\n",
       "      <td>209.0</td>\n",
       "      <td>7.0</td>\n",
       "    </tr>\n",
       "  </tbody>\n",
       "</table>\n",
       "</div>"
      ],
      "text/plain": [
       "                    lib_name_survey  \\\n",
       "0    Havana Public Library District   \n",
       "1          Riverton Village library   \n",
       "2  Bethalto Public Library District   \n",
       "\n",
       "                              lib_address_survey   latitude  longitude  \\\n",
       "0             201 W. Adams St., Havana, IL 62644  40.299153 -90.062597   \n",
       "1  1200 Riverton Road, Riverton, Illionis, 62561  39.859524 -89.531471   \n",
       "2         321 S. Prairie St., Bethalto, IL 62010  38.907462 -90.040347   \n",
       "\n",
       "  broadband wifi  down_open  upload_open  down_midday  upload_midday  \\\n",
       "0       Yes  Yes      320.0        198.0        320.0          320.0   \n",
       "1       Yes  Yes       93.0         94.0         93.0           94.0   \n",
       "2       Yes  Yes      203.0          7.0        146.0            3.0   \n",
       "\n",
       "   down_close  upload_close  \n",
       "0       320.0         320.0  \n",
       "1        94.0          94.0  \n",
       "2       209.0           7.0  "
      ]
     },
     "execution_count": 15,
     "metadata": {},
     "output_type": "execute_result"
    }
   ],
   "source": [
    "geosurvey_df.head(3)"
   ]
  },
  {
   "cell_type": "code",
   "execution_count": 16,
   "metadata": {},
   "outputs": [
    {
     "data": {
      "text/plain": [
       "(371, 12)"
      ]
     },
     "execution_count": 16,
     "metadata": {},
     "output_type": "execute_result"
    }
   ],
   "source": [
    "geosurvey_df.shape"
   ]
  },
  {
   "cell_type": "markdown",
   "metadata": {},
   "source": [
    "And now, we create the `merged_df` as described before:"
   ]
  },
  {
   "cell_type": "code",
   "execution_count": 17,
   "metadata": {},
   "outputs": [],
   "source": [
    "# Add data where there is info Keep old dataframe with new survey data \n",
    "merged_df = pd.merge(geolib_df,\n",
    "                     geosurvey_df,\n",
    "                     how=\"left\",\n",
    "                     on=[\"latitude\",\"longitude\"])"
   ]
  },
  {
   "cell_type": "markdown",
   "metadata": {},
   "source": [
    "As a final check, we compare the dimensions of `geolib_df` and `merged_df` to check that there are no duplicates:"
   ]
  },
  {
   "cell_type": "code",
   "execution_count": 18,
   "metadata": {},
   "outputs": [
    {
     "name": "stdout",
     "output_type": "stream",
     "text": [
      "Number of rows in the geolib_df: 781\n",
      "Number of rows in the merged_df: 781\n"
     ]
    }
   ],
   "source": [
    "print(\"Number of rows in the geolib_df:\",geolib_df.shape[0])\n",
    "print(\"Number of rows in the merged_df:\",merged_df.shape[0])"
   ]
  },
  {
   "cell_type": "code",
   "execution_count": 20,
   "metadata": {},
   "outputs": [
    {
     "data": {
      "text/html": [
       "<div>\n",
       "<style scoped>\n",
       "    .dataframe tbody tr th:only-of-type {\n",
       "        vertical-align: middle;\n",
       "    }\n",
       "\n",
       "    .dataframe tbody tr th {\n",
       "        vertical-align: top;\n",
       "    }\n",
       "\n",
       "    .dataframe thead th {\n",
       "        text-align: right;\n",
       "    }\n",
       "</style>\n",
       "<table border=\"1\" class=\"dataframe\">\n",
       "  <thead>\n",
       "    <tr style=\"text-align: right;\">\n",
       "      <th></th>\n",
       "      <th>lib_name</th>\n",
       "      <th>lib_address</th>\n",
       "      <th>latitude</th>\n",
       "      <th>longitude</th>\n",
       "      <th>lib_name_survey</th>\n",
       "      <th>lib_address_survey</th>\n",
       "      <th>broadband</th>\n",
       "      <th>wifi</th>\n",
       "      <th>down_open</th>\n",
       "      <th>upload_open</th>\n",
       "      <th>down_midday</th>\n",
       "      <th>upload_midday</th>\n",
       "      <th>down_close</th>\n",
       "      <th>upload_close</th>\n",
       "    </tr>\n",
       "  </thead>\n",
       "  <tbody>\n",
       "    <tr>\n",
       "      <th>0</th>\n",
       "      <td>A. Herr Smith &amp; E.E. Smith Loda Township Library</td>\n",
       "      <td>105 East Adams Street Loda, IL 60948-0247</td>\n",
       "      <td>40.517828</td>\n",
       "      <td>-88.070665</td>\n",
       "      <td>NaN</td>\n",
       "      <td>NaN</td>\n",
       "      <td>NaN</td>\n",
       "      <td>NaN</td>\n",
       "      <td>NaN</td>\n",
       "      <td>NaN</td>\n",
       "      <td>NaN</td>\n",
       "      <td>NaN</td>\n",
       "      <td>NaN</td>\n",
       "      <td>NaN</td>\n",
       "    </tr>\n",
       "    <tr>\n",
       "      <th>1</th>\n",
       "      <td>Acorn Public Library District</td>\n",
       "      <td>15624 South Central Avenue Oak Forest, IL 6045...</td>\n",
       "      <td>41.607358</td>\n",
       "      <td>-87.756728</td>\n",
       "      <td>NaN</td>\n",
       "      <td>NaN</td>\n",
       "      <td>NaN</td>\n",
       "      <td>NaN</td>\n",
       "      <td>NaN</td>\n",
       "      <td>NaN</td>\n",
       "      <td>NaN</td>\n",
       "      <td>NaN</td>\n",
       "      <td>NaN</td>\n",
       "      <td>NaN</td>\n",
       "    </tr>\n",
       "  </tbody>\n",
       "</table>\n",
       "</div>"
      ],
      "text/plain": [
       "                                           lib_name  \\\n",
       "0  A. Herr Smith & E.E. Smith Loda Township Library   \n",
       "1                     Acorn Public Library District   \n",
       "\n",
       "                                         lib_address   latitude  longitude  \\\n",
       "0          105 East Adams Street Loda, IL 60948-0247  40.517828 -88.070665   \n",
       "1  15624 South Central Avenue Oak Forest, IL 6045...  41.607358 -87.756728   \n",
       "\n",
       "  lib_name_survey lib_address_survey broadband wifi  down_open  upload_open  \\\n",
       "0             NaN                NaN       NaN  NaN        NaN          NaN   \n",
       "1             NaN                NaN       NaN  NaN        NaN          NaN   \n",
       "\n",
       "   down_midday  upload_midday  down_close  upload_close  \n",
       "0          NaN            NaN         NaN           NaN  \n",
       "1          NaN            NaN         NaN           NaN  "
      ]
     },
     "execution_count": 20,
     "metadata": {},
     "output_type": "execute_result"
    }
   ],
   "source": [
    "merged_df.head(2)"
   ]
  },
  {
   "cell_type": "markdown",
   "metadata": {},
   "source": [
    "## V. Exporting Data"
   ]
  },
  {
   "cell_type": "markdown",
   "metadata": {},
   "source": [
    "We create average download and upload sppeds before exporting the data:"
   ]
  },
  {
   "cell_type": "code",
   "execution_count": 24,
   "metadata": {},
   "outputs": [],
   "source": [
    "merged_df.loc[:,\"avg_down_speed\"] = merged_df.loc[:,[\"down_open\",\"down_midday\",\"down_close\"]].mean(axis=1)\n",
    "merged_df.loc[:,\"avg_up_speed\"] = merged_df.loc[:,[\"upload_open\",\"upload_midday\",\"upload_close\"]].mean(axis=1)"
   ]
  },
  {
   "cell_type": "markdown",
   "metadata": {},
   "source": [
    "And finally we export the dataset, which contains survey data for 370 out of 781 libraries (approx. 50%):"
   ]
  },
  {
   "cell_type": "code",
   "execution_count": 106,
   "metadata": {},
   "outputs": [],
   "source": [
    "merged_df.to_csv(\"../data/lib_data_plot.csv\", index=False)"
   ]
  }
 ],
 "metadata": {
  "kernelspec": {
   "display_name": "Python 3",
   "language": "python",
   "name": "python3"
  },
  "language_info": {
   "codemirror_mode": {
    "name": "ipython",
    "version": 3
   },
   "file_extension": ".py",
   "mimetype": "text/x-python",
   "name": "python",
   "nbconvert_exporter": "python",
   "pygments_lexer": "ipython3",
   "version": "3.11.6"
  }
 },
 "nbformat": 4,
 "nbformat_minor": 2
}
